{
 "cells": [
  {
   "cell_type": "code",
   "execution_count": 59,
   "id": "0a087061-4350-4c25-8908-4bd96a157e0f",
   "metadata": {},
   "outputs": [
    {
     "name": "stdout",
     "output_type": "stream",
     "text": [
      "                 0                                                  1   \\\n",
      "0               NaN  MAKE A COPY TO BEGIN YOUR WORK. THIS IS A READ...   \n",
      "1  Record Creation                               Frequent Flier Number   \n",
      "2        2024-02-27                                         7234617746   \n",
      "3        2021-03-07                                         7234617746   \n",
      "4        2023-01-31                                         7234617746   \n",
      "\n",
      "           2           3          4              5                     6   \\\n",
      "0         NaN         NaN        NaN            NaN                   NaN   \n",
      "1   Join Date  First Name  Last Name   Inquiry Type  Most Recent Flight #   \n",
      "2  1988/07/08      debbie     spears  Flight Status             G35206241   \n",
      "3  1988/07/08      debbie     Spears     New Flight             V81311927   \n",
      "4  07/08/1988      debbie     spears  Cancel Flight             H82295055   \n",
      "\n",
      "             7                  8                9               10  \\\n",
      "0           NaN                NaN              NaN             NaN   \n",
      "1  Lounge Used?  Departing Airport  Arrival Airport  Planned Snack?   \n",
      "2         FALSE                DFW              DEN           FALSE   \n",
      "3          TRUE                JFK              SFO           FALSE   \n",
      "4         FALSE                MIA              ORD           FALSE   \n",
      "\n",
      "                  11                          12                       13  \\\n",
      "0                NaN                         NaN                      NaN   \n",
      "1  Additional Snack?  # of Included Checked Bags  Total # of Checked Bags   \n",
      "2               TRUE                           0                       16   \n",
      "3               TRUE                           1                       21   \n",
      "4              FALSE                           7                        5   \n",
      "\n",
      "                14  \n",
      "0              NaN  \n",
      "1  Flight Delayed?  \n",
      "2             TRUE  \n",
      "3            FALSE  \n",
      "4             TRUE  \n"
     ]
    }
   ],
   "source": [
    "# Step 1: Load the dataset without headers so that pandas assigns default column names\n",
    "import pandas as pd\n",
    "import numpy as np\n",
    "from sklearn.preprocessing import LabelEncoder\n",
    "raw_df = pd.read_csv(\"Delta Airlines Loyalty Customer Raw Data.csv\", header=None)\n",
    "\n",
    "# Step 2: Display the first few rows to verify that default column names are assigned correctly\n",
    "print(raw_df.head())\n"
   ]
  },
  {
   "cell_type": "code",
   "execution_count": 61,
   "id": "43294bbe-41bb-48c3-a4f9-d33b76a53ce6",
   "metadata": {},
   "outputs": [
    {
     "name": "stdout",
     "output_type": "stream",
     "text": [
      "First row of the dataset (potential headers):\n",
      "0               Record Creation \n",
      "1          Frequent Flier Number\n",
      "2                      Join Date\n",
      "3                     First Name\n",
      "4                      Last Name\n",
      "5                   Inquiry Type\n",
      "6           Most Recent Flight #\n",
      "7                   Lounge Used?\n",
      "8              Departing Airport\n",
      "9                Arrival Airport\n",
      "10                Planned Snack?\n",
      "11             Additional Snack?\n",
      "12    # of Included Checked Bags\n",
      "13       Total # of Checked Bags\n",
      "14               Flight Delayed?\n",
      "Name: 1, dtype: object\n"
     ]
    }
   ],
   "source": [
    "#from the columns, it looks like index 1 contains the columns so thus we shall...\n",
    "# Step 3: Display the first row to see if it contains the actual headers\n",
    "print(\"First row of the dataset (potential headers):\")\n",
    "print(raw_df.iloc[1])\n"
   ]
  },
  {
   "cell_type": "code",
   "execution_count": 63,
   "id": "4a78b45e-7642-4431-852b-932eda8d9a09",
   "metadata": {},
   "outputs": [
    {
     "name": "stdout",
     "output_type": "stream",
     "text": [
      "Column names in the dataset:\n",
      "Index(['Record Creation ', 'Frequent Flier Number', 'Join Date', 'First Name',\n",
      "       'Last Name', 'Inquiry Type', 'Most Recent Flight #', 'Lounge Used?',\n",
      "       'Departing Airport', 'Arrival Airport', 'Planned Snack?',\n",
      "       'Additional Snack?', '# of Included Checked Bags',\n",
      "       'Total # of Checked Bags', 'Flight Delayed?'],\n",
      "      dtype='object')\n"
     ]
    }
   ],
   "source": [
    "# Step 4: Reload dataset with the correct headers\n",
    "raw_df = pd.read_csv('Delta Airlines Loyalty Customer Raw Data.csv', header=1)  # Set header row as row 1 (index 1)\n",
    "\n",
    "# Reset index to avoid the first row being treated as an index\n",
    "raw_df.reset_index(drop=True, inplace=True)\n",
    "\n",
    "# Display the columns to confirm the headers are set correctly\n",
    "#This is for verification\n",
    "print(\"Column names in the dataset:\")\n",
    "print(raw_df.columns)\n"
   ]
  },
  {
   "cell_type": "code",
   "execution_count": 65,
   "id": "593242b8-3214-4c59-b02f-d9d6b1db7d49",
   "metadata": {},
   "outputs": [
    {
     "name": "stdout",
     "output_type": "stream",
     "text": [
      "Missing values per column:\n",
      "Record Creation               461\n",
      "Frequent Flier Number         532\n",
      "Join Date                     535\n",
      "First Name                    521\n",
      "Last Name                     532\n",
      "Inquiry Type                  521\n",
      "Most Recent Flight #          519\n",
      "Lounge Used?                  524\n",
      "Departing Airport             499\n",
      "Arrival Airport               500\n",
      "Planned Snack?                529\n",
      "Additional Snack?             540\n",
      "# of Included Checked Bags    248\n",
      "Total # of Checked Bags       533\n",
      "Flight Delayed?               530\n",
      "dtype: int64\n",
      "\n",
      "Missing values after filling:\n",
      "Record Creation               461\n",
      "Frequent Flier Number           0\n",
      "Join Date                     535\n",
      "First Name                    521\n",
      "Last Name                     532\n",
      "Inquiry Type                  521\n",
      "Most Recent Flight #          519\n",
      "Lounge Used?                    0\n",
      "Departing Airport             499\n",
      "Arrival Airport               500\n",
      "Planned Snack?                529\n",
      "Additional Snack?             540\n",
      "# of Included Checked Bags      0\n",
      "Total # of Checked Bags       533\n",
      "Flight Delayed?               530\n",
      "dtype: int64\n",
      "\n",
      "Data types after conversion:\n",
      "Record Creation                object\n",
      "Frequent Flier Number          object\n",
      "Join Date                      object\n",
      "First Name                     object\n",
      "Last Name                      object\n",
      "Inquiry Type                   object\n",
      "Most Recent Flight #           object\n",
      "Lounge Used?                   object\n",
      "Departing Airport              object\n",
      "Arrival Airport                object\n",
      "Planned Snack?                 object\n",
      "Additional Snack?              object\n",
      "# of Included Checked Bags      int32\n",
      "Total # of Checked Bags       float64\n",
      "Flight Delayed?                object\n",
      "dtype: object\n"
     ]
    }
   ],
   "source": [
    "# Step 5: Handle missing values and correct data types\n",
    "\n",
    "# Identify missing values\n",
    "print(\"Missing values per column:\")\n",
    "print(raw_df.isnull().sum())\n",
    "\n",
    "# Fill missing values with appropriate defaults or placeholders\n",
    "raw_df['Frequent Flier Number'] = raw_df['Frequent Flier Number'].fillna(\"Unknown\")  # Fill missing IDs with 'Unknown'\n",
    "raw_df['Lounge Used?'] = raw_df['Lounge Used?'].fillna(\"False\")                        # Fill missing lounge usage with 'False'\n",
    "raw_df['# of Included Checked Bags'] = raw_df['# of Included Checked Bags'].fillna(0)  # Fill missing bag counts with 0\n",
    "\n",
    "# Check for missing values after filling\n",
    "print(\"\\nMissing values after filling:\")\n",
    "print(raw_df.isnull().sum())\n",
    "\n",
    "# Correcting data types accordingly\n",
    "raw_df['Frequent Flier Number'] = raw_df['Frequent Flier Number'].astype(str)  # Ensure it's a string\n",
    "raw_df['# of Included Checked Bags'] = raw_df['# of Included Checked Bags'].astype(int)  # Ensure it's an integer\n",
    "\n",
    "# Verify the data types after conversion\n",
    "print(\"\\nData types after conversion:\")\n",
    "print(raw_df.dtypes)\n"
   ]
  },
  {
   "cell_type": "code",
   "execution_count": 67,
   "id": "4866cffb-5b98-44f6-909f-163f08e7f3f0",
   "metadata": {},
   "outputs": [
    {
     "name": "stdout",
     "output_type": "stream",
     "text": [
      "Data types after conversion:\n",
      "Record Creation                       object\n",
      "Frequent Flier Number                 object\n",
      "Join Date                     datetime64[ns]\n",
      "First Name                            object\n",
      "Last Name                             object\n",
      "Inquiry Type                          object\n",
      "Most Recent Flight #                  object\n",
      "Lounge Used?                            bool\n",
      "Departing Airport                     object\n",
      "Arrival Airport                       object\n",
      "Planned Snack?                        object\n",
      "Additional Snack?                     object\n",
      "# of Included Checked Bags             int32\n",
      "Total # of Checked Bags              float64\n",
      "Flight Delayed?                         bool\n",
      "dtype: object\n"
     ]
    }
   ],
   "source": [
    "# Step 6: Convert columns to appropriate data types\n",
    "\n",
    "# Convert 'Join Date' to datetime format\n",
    "raw_df['Join Date'] = pd.to_datetime(raw_df['Join Date'], errors='coerce')\n",
    "\n",
    "# Convert numeric columns to numeric types (errors='coerce' will handle invalid values by turning them to NaN)\n",
    "raw_df['# of Included Checked Bags'] = pd.to_numeric(raw_df['# of Included Checked Bags'], errors='coerce')\n",
    "raw_df['Total # of Checked Bags'] = pd.to_numeric(raw_df['Total # of Checked Bags'], errors='coerce')\n",
    "\n",
    "# Convert boolean-like columns to actual boolean values\n",
    "raw_df['Lounge Used?'] = raw_df['Lounge Used?'].apply(lambda x: True if str(x).lower() == 'true' else False)\n",
    "raw_df['Flight Delayed?'] = raw_df['Flight Delayed?'].apply(lambda x: True if str(x).lower() == 'true' else False)\n",
    "\n",
    "# Display the updated data types to verify and confirm the changes\n",
    "print(\"Data types after conversion:\")\n",
    "print(raw_df.dtypes)\n"
   ]
  },
  {
   "cell_type": "code",
   "execution_count": 69,
   "id": "a3c805ab-24a8-4c7b-9d1a-cfcef0f9a602",
   "metadata": {},
   "outputs": [
    {
     "name": "stdout",
     "output_type": "stream",
     "text": [
      "Data after handling outliers and unusual values:\n",
      "  Record Creation  Frequent Flier Number  Join Date First Name Last Name  \\\n",
      "0       2024-02-27          7234617746.0 1988-07-08     debbie    spears   \n",
      "1       2021-03-07          7234617746.0 1988-07-08     debbie    Spears   \n",
      "2       2023-01-31          7234617746.0        NaT     debbie    spears   \n",
      "3       2021-08-21           551121699.0        NaT       kyle     Boone   \n",
      "4       2022-03-01           551121699.0        NaT       KYLE     Boone   \n",
      "\n",
      "    Inquiry Type Most Recent Flight #  Lounge Used? Departing Airport  \\\n",
      "0  Flight Status            G35206241         False               DFW   \n",
      "1     New Flight            V81311927          True               JFK   \n",
      "2  Cancel Flight            H82295055         False               MIA   \n",
      "3     New Flight            E39886834          True               ttt   \n",
      "4     New Flight            R04390271         False               SFO   \n",
      "\n",
      "  Arrival Airport Planned Snack? Additional Snack?  \\\n",
      "0             DEN          False              True   \n",
      "1             SFO          False              True   \n",
      "2             ORD          False             False   \n",
      "3             NaN          False              True   \n",
      "4             DFW          False             False   \n",
      "\n",
      "   # of Included Checked Bags  Total # of Checked Bags  Flight Delayed?  \n",
      "0                         0.0                     16.0             True  \n",
      "1                         1.0                     21.0            False  \n",
      "2                         7.0                      5.0             True  \n",
      "3                         0.0                      8.0            False  \n",
      "4                         3.0                     17.0            False  \n"
     ]
    }
   ],
   "source": [
    "# Step 7: Handle outliers and unusual values\n",
    "\n",
    "# Check for negative values in numeric columns and set them to NaN\n",
    "raw_df['# of Included Checked Bags'] = raw_df['# of Included Checked Bags'].apply(lambda x: x if x >= 0 else np.nan)\n",
    "raw_df['Total # of Checked Bags'] = raw_df['Total # of Checked Bags'].apply(lambda x: x if x >= 0 else np.nan)\n",
    "\n",
    "# For boolean-like columns, check for unexpected values and set them to NaN if needed\n",
    "raw_df['Lounge Used?'] = raw_df['Lounge Used?'].apply(lambda x: x if isinstance(x, bool) else np.nan)\n",
    "raw_df['Flight Delayed?'] = raw_df['Flight Delayed?'].apply(lambda x: x if isinstance(x, bool) else np.nan)\n",
    "\n",
    "# Display data to check for any issues\n",
    "print(\"Data after handling outliers and unusual values:\")\n",
    "print(raw_df.head())\n"
   ]
  },
  {
   "cell_type": "code",
   "execution_count": 71,
   "id": "f0b99dfb-530e-4036-a9be-9539965169ed",
   "metadata": {},
   "outputs": [
    {
     "name": "stdout",
     "output_type": "stream",
     "text": [
      "  Record Creation  Frequent Flier Number  Join Date First Name Last Name  \\\n",
      "0       2024-02-27          7234617746.0 1988-07-08     debbie    spears   \n",
      "1       2021-03-07          7234617746.0 1988-07-08     debbie    Spears   \n",
      "2       2023-01-31          7234617746.0        NaT     debbie    spears   \n",
      "3       2021-08-21           551121699.0        NaT       kyle     Boone   \n",
      "4       2022-03-01           551121699.0        NaT       KYLE     Boone   \n",
      "\n",
      "   Inquiry Type Most Recent Flight #  Lounge Used?  Departing Airport  \\\n",
      "0             2            G35206241         False                  3   \n",
      "1             3            V81311927          True                  4   \n",
      "2             0            H82295055         False                  6   \n",
      "3             3            E39886834          True                 10   \n",
      "4             3            R04390271         False                  9   \n",
      "\n",
      "   Arrival Airport  Planned Snack?  Additional Snack?  \\\n",
      "0                2               0                  1   \n",
      "1                9               0                  1   \n",
      "2                7               0                  0   \n",
      "3               11               0                  1   \n",
      "4                3               0                  0   \n",
      "\n",
      "   # of Included Checked Bags  Total # of Checked Bags  Flight Delayed?  \n",
      "0                         0.0                     16.0                1  \n",
      "1                         1.0                     21.0                0  \n",
      "2                         7.0                      5.0                1  \n",
      "3                         0.0                      8.0                0  \n",
      "4                         3.0                     17.0                0  \n"
     ]
    }
   ],
   "source": [
    "# Step 8: Data Transformation\n",
    "\n",
    "# Convert date columns to datetime format\n",
    "raw_df['Join Date'] = pd.to_datetime(raw_df['Join Date'], errors='coerce')\n",
    "raw_df['Record Creation '] = pd.to_datetime(raw_df['Record Creation '], errors='coerce')\n",
    "\n",
    "# List of categorical columns\n",
    "categorical_columns = ['Inquiry Type', 'Departing Airport', 'Arrival Airport', 'Planned Snack?', \n",
    "                       'Additional Snack?', 'Flight Delayed?']\n",
    "\n",
    "# Initialize LabelEncoder\n",
    "label_encoder = LabelEncoder()\n",
    "\n",
    "# Apply label encoding to each categorical column\n",
    "for col in categorical_columns:\n",
    "    raw_df[col] = label_encoder.fit_transform(raw_df[col])\n",
    "\n",
    "# Check the transformed data\n",
    "print(raw_df.head())  # Show the first few rows of the dataframe to verify the transformation"
   ]
  },
  {
   "cell_type": "code",
   "execution_count": 73,
   "id": "147fdd63-e2c4-46a1-a23b-78ca632e3c2f",
   "metadata": {},
   "outputs": [],
   "source": [
    "# Export the cleaned data to a CSV file\n",
    "raw_df.to_csv('Delta Airlines Frequent Flier Raw Cleaned_data.csv', index=False)  # Ensure index is not included in the CSV\n"
   ]
  },
  {
   "cell_type": "code",
   "execution_count": null,
   "id": "a2af9d0c-4efc-4c50-b7ca-3d3cf704f783",
   "metadata": {},
   "outputs": [],
   "source": []
  }
 ],
 "metadata": {
  "kernelspec": {
   "display_name": "Python 3 (ipykernel)",
   "language": "python",
   "name": "python3"
  },
  "language_info": {
   "codemirror_mode": {
    "name": "ipython",
    "version": 3
   },
   "file_extension": ".py",
   "mimetype": "text/x-python",
   "name": "python",
   "nbconvert_exporter": "python",
   "pygments_lexer": "ipython3",
   "version": "3.12.4"
  }
 },
 "nbformat": 4,
 "nbformat_minor": 5
}
